{
 "cells": [
  {
   "cell_type": "markdown",
   "id": "0dbff6e7",
   "metadata": {},
   "source": [
    "## Check Python Version of Environment"
   ]
  },
  {
   "cell_type": "code",
   "execution_count": null,
   "id": "53ad9326-8673-4dd4-a584-73036712bd9e",
   "metadata": {
    "tags": []
   },
   "outputs": [],
   "source": [
    "from platform import python_version\n",
    "\n",
    "print(python_version())"
   ]
  },
  {
   "cell_type": "markdown",
   "id": "f24323e5-66e0-4107-b9d0-dd8e0104315e",
   "metadata": {},
   "source": [
    "## 1. Install & Import Dependencies"
   ]
  },
  {
   "cell_type": "markdown",
   "id": "cfd35014-8afa-41b7-8b36-1b64a7a370dc",
   "metadata": {
    "jp-MarkdownHeadingCollapsed": true
   },
   "source": [
    "### 1.1 Install Pytorch"
   ]
  },
  {
   "cell_type": "code",
   "execution_count": null,
   "id": "9f37b2a4-a471-4cc1-b903-215590c726c1",
   "metadata": {},
   "outputs": [],
   "source": [
    "''' Visit \"https://pytorch.org/get-started/locally/\" \n",
    "to download compatible version of pytorch '''\n",
    "\n",
    "#!pip3 install torch torchvision torchaudio --index-url https://download.pytorch.org/whl/cu121"
   ]
  },
  {
   "cell_type": "markdown",
   "id": "8ac513b1-a2f7-4abc-8cf2-ff8324d571a4",
   "metadata": {
    "jp-MarkdownHeadingCollapsed": true
   },
   "source": [
    "### 1.2 Setup YOLO V9"
   ]
  },
  {
   "cell_type": "markdown",
   "id": "97f3e6d9-027b-4140-901e-1e8d2e69277b",
   "metadata": {},
   "source": [
    "#### 1.2.1 Clone YOLO V9 Repository"
   ]
  },
  {
   "cell_type": "code",
   "execution_count": null,
   "id": "4c98cb4c-7e90-4813-9b13-1399b7b0a3dc",
   "metadata": {},
   "outputs": [],
   "source": [
    "import os\n",
    "\n",
    "if not os.path.exists('yolov9'):\n",
    "    !git clone https://github.com/SkalskiP/yolov9.git\n",
    "    !cd yolov9 & pip install -r requirements.txt"
   ]
  },
  {
   "cell_type": "markdown",
   "id": "05cfd2e1-3870-4c91-a4f2-4b12b3d2bf3a",
   "metadata": {},
   "source": [
    "#### 1.2.2 Download Weights"
   ]
  },
  {
   "cell_type": "code",
   "execution_count": null,
   "id": "1d784b45-6b21-4036-897d-a9d050d8fa82",
   "metadata": {},
   "outputs": [],
   "source": [
    "\n",
    "import urllib.request\n",
    "\n",
    "urls = [\n",
    "    \"https://github.com/WongKinYiu/yolov9/releases/download/v0.1/yolov9-c.pt\",\n",
    "    \"https://github.com/WongKinYiu/yolov9/releases/download/v0.1/yolov9-e.pt\",\n",
    "    \"https://github.com/WongKinYiu/yolov9/releases/download/v0.1/gelan-c.pt\",\n",
    "    \"https://github.com/WongKinYiu/yolov9/releases/download/v0.1/gelan-e.pt\"\n",
    "]\n",
    "\n",
    "directory = \"yolov9/weights\"\n",
    "\n",
    "os.makedirs(directory, exist_ok=True)\n",
    "\n",
    "download_count = 0\n",
    "for url in urls:\n",
    "    filename = url.split(\"/\")[-1] \n",
    "    filepath = f\"{directory}/{filename}\" \n",
    "    \n",
    "    # Check if the file already exists\n",
    "    if not os.path.exists(filepath):\n",
    "        print(f\"Downloading {filename}...\")\n",
    "        urllib.request.urlretrieve(url, filepath)\n",
    "        download_count += 1\n",
    "    else:\n",
    "        print(f\"{filename} already exists. Skipping download.\")\n",
    "        \n",
    "print(f\"Download Complete. Downloaded {download_count} files\")"
   ]
  },
  {
   "cell_type": "markdown",
   "id": "d81f0e04-69f9-4ed0-bf78-cc299707c241",
   "metadata": {},
   "source": [
    "### 1.3 Import Dependencies"
   ]
  },
  {
   "cell_type": "code",
   "execution_count": null,
   "id": "2cedcb7a-b8ee-4e6b-97e7-4385bcdf25c2",
   "metadata": {},
   "outputs": [],
   "source": [
    "import torch\n",
    "from matplotlib import pyplot as plt\n",
    "import numpy as np\n",
    "import cv2\n",
    "import glob \n",
    "import random\n",
    "import os"
   ]
  },
  {
   "cell_type": "markdown",
   "id": "58284089-14d7-4aeb-8594-f0f4394b7e18",
   "metadata": {
    "jp-MarkdownHeadingCollapsed": true
   },
   "source": [
    "#### 1.4 Check for GPU"
   ]
  },
  {
   "cell_type": "code",
   "execution_count": null,
   "id": "a1d0d853-c3c5-48f6-a8a0-ed80ee01b822",
   "metadata": {},
   "outputs": [],
   "source": [
    "# Check PyTorch GPU availability\n",
    "if torch.cuda.is_available():\n",
    "    print(f\"GPU Name: {torch.cuda.get_device_name(0)}\")\n",
    "    print(f\"GPU Is Available: {torch.cuda.is_available()}\")\n",
    "else:\n",
    "    print(\"GPU is not available.\")"
   ]
  },
  {
   "cell_type": "markdown",
   "id": "48301eab-3cf6-41ac-ae2f-c8b08daa1f58",
   "metadata": {},
   "source": [
    "## 2. Detect Using Pretrained Weights"
   ]
  },
  {
   "cell_type": "code",
   "execution_count": null,
   "id": "d9709dcb-207c-46d2-82c9-c37dc53260fa",
   "metadata": {},
   "outputs": [],
   "source": [
    "img = 'dataset/test/images/33.png'"
   ]
  },
  {
   "cell_type": "markdown",
   "id": "973fc262-c8a1-427d-bb88-ab78b0bb5060",
   "metadata": {},
   "source": [
    "### 2.1 Using Gelan-C"
   ]
  },
  {
   "cell_type": "code",
   "execution_count": null,
   "id": "c3f3c482-3294-437b-a7df-caf3ebc9612a",
   "metadata": {},
   "outputs": [],
   "source": [
    "!cd yolov9 && python detect.py \\\n",
    "--img 1000 --conf 0.1 --device 0 \\\n",
    "--weights {HOME}/weights/gelan-c.pt \\\n",
    "--source dataset/test/images/23.png"
   ]
  },
  {
   "cell_type": "markdown",
   "id": "04ac1c2d-ef74-4f5b-8c37-32a5fac5f6e2",
   "metadata": {},
   "source": [
    "## Plot Sample Images"
   ]
  },
  {
   "cell_type": "code",
   "execution_count": null,
   "id": "c50dc46c-6357-4c26-a269-eab89778252a",
   "metadata": {},
   "outputs": [],
   "source": [
    "# Function to convert bounding boxes in YOLO format to xmin, ymin, xmax, ymax.\n",
    "def yolo2bbox(bboxes):\n",
    "    xmin, ymin = bboxes[0]-bboxes[2]/2, bboxes[1]-bboxes[3]/2\n",
    "    xmax, ymax = bboxes[0]+bboxes[2]/2, bboxes[1]+bboxes[3]/2\n",
    "    return xmin, ymin, xmax, ymax"
   ]
  },
  {
   "cell_type": "code",
   "execution_count": null,
   "id": "6c9f55dd-49fd-4ebd-acb8-723ec78e6199",
   "metadata": {},
   "outputs": [],
   "source": [
    "def plot_box(image, bboxes, labels):\n",
    "    # Need the image height and width to denormalize\n",
    "    # the bounding box coordinates\n",
    "    h, w, _ = image.shape\n",
    "    for box_num, box in enumerate(bboxes):\n",
    "        x1, y1, x2, y2 = yolo2bbox(box)\n",
    "        # Denormalize the coordinates.\n",
    "        xmin = int(x1*w)\n",
    "        ymin = int(y1*h)\n",
    "        xmax = int(x2*w)\n",
    "        ymax = int(y2*h)\n",
    "\n",
    "        thickness = max(2, int(w/275))\n",
    "                \n",
    "        cv2.rectangle(\n",
    "            image, \n",
    "            (xmin, ymin), (xmax, ymax),\n",
    "            color=(0, 0, 255),\n",
    "            thickness=thickness\n",
    "        )\n",
    "    return image"
   ]
  },
  {
   "cell_type": "code",
   "execution_count": null,
   "id": "f0038ea5-0133-4eda-bcdf-cee52fba6efe",
   "metadata": {},
   "outputs": [],
   "source": [
    "def plot(image_paths, label_paths, name):\n",
    "    plt.figure(figsize=(15, 12))\n",
    "    image_name = f\"dataset/test/images\\\\{name}\"\n",
    "    image = cv2.imread(image_name)\n",
    "    label_name = name[:-3]+'txt'\n",
    "    with open(os.path.join(label_paths, label_name), 'r') as f:\n",
    "        bboxes = []\n",
    "        labels = []\n",
    "        label_lines = f.readlines()\n",
    "        for label_line in label_lines:\n",
    "            label = label_line[0]\n",
    "            bbox_string = label_line[2:]\n",
    "            x_c, y_c, w, h = bbox_string.split(' ')\n",
    "            x_c = float(x_c)\n",
    "            y_c = float(y_c)\n",
    "            w = float(w)\n",
    "            h = float(h)\n",
    "            bboxes.append([x_c, y_c, w, h])\n",
    "            labels.append(label)\n",
    "    result_image = plot_box(image, bboxes, labels)\n",
    "    plt.subplot(2, 2, 1)\n",
    "    plt.imshow(result_image[:, :, ::-1])\n",
    "    plt.axis('off')\n",
    "    plt.subplots_adjust(wspace=1)\n",
    "    plt.tight_layout()\n",
    "    plt.show()"
   ]
  },
  {
   "cell_type": "code",
   "execution_count": null,
   "id": "9c740fe7-ab20-41a4-8899-3c74ba7351a2",
   "metadata": {},
   "outputs": [],
   "source": [
    "# Visualize a few training images.\n",
    "plot(\n",
    "    image_paths='dataset/test/images/', \n",
    "    label_paths='dataset/test/labels/',\n",
    "    name='23.png',\n",
    ")"
   ]
  },
  {
   "cell_type": "markdown",
   "id": "220059f6-3351-41c2-aec7-a64ebaef719b",
   "metadata": {},
   "source": [
    "## Train Model on Custom Data"
   ]
  },
  {
   "cell_type": "code",
   "execution_count": null,
   "id": "3ab193a3-aa58-415b-999e-b366afa9d6dd",
   "metadata": {},
   "outputs": [],
   "source": [
    "EPOCHS = 20\n",
    "BATCH = 4\n",
    "IMG_SIZE = 1000"
   ]
  },
  {
   "cell_type": "code",
   "execution_count": null,
   "id": "cbf6a333-e9ac-4c99-b848-7763f9be8256",
   "metadata": {},
   "outputs": [],
   "source": [
    "!cd yolov9"
   ]
  },
  {
   "cell_type": "code",
   "execution_count": null,
   "id": "56f7c9c0-9dc3-4f60-9cca-379926a51a90",
   "metadata": {
    "scrolled": true
   },
   "outputs": [],
   "source": [
    "# !cd yolov9 && python train_dual.py \\\n",
    "# --workers 8 \\\n",
    "# --batch 4  \\\n",
    "# --img 600 \\\n",
    "# --epochs 5 \\\n",
    "# --data data.yaml \\\n",
    "# --weights weights/yolov9-c.pt \\\n",
    "# --device 0 \\\n",
    "# --cfg models/detect/yolov9_custom.yaml \\\n",
    "# --hyp data/hyps/hyp.scratch-high.yaml"
   ]
  },
  {
   "cell_type": "markdown",
   "id": "2aec0e23-3e0b-49ff-ab93-d31215ebe4f5",
   "metadata": {},
   "source": [
    "## Test Custom Model"
   ]
  },
  {
   "cell_type": "code",
   "execution_count": null,
   "id": "2a267994",
   "metadata": {},
   "outputs": [],
   "source": [
    "python val.py --img 1000 --batch 8 --conf 0.001 --iou 0.7 --device 0 --data data.yaml --weights runs/train/exp12/weights/best.pt"
   ]
  },
  {
   "cell_type": "code",
   "execution_count": null,
   "id": "4565157a-ba03-453d-b92b-6efaa284a38e",
   "metadata": {
    "scrolled": true
   },
   "outputs": [],
   "source": [
    "!cd yolov9 && python detect.py \\\n",
    "--img 1000 --conf 0.1 --device 0 \\\n",
    "--weights runs/train/exp12/weights/best.pt \\\n",
    "--source dataset/test/images/23.png"
   ]
  },
  {
   "cell_type": "code",
   "execution_count": null,
   "id": "fb2d07df-08bb-4d4c-9a35-4c4ac0233143",
   "metadata": {},
   "outputs": [],
   "source": [
    "from IPython.display import Image\n",
    "Image(filename=\"yolov9/runs/detect/exp/23.png\", width=600)\n",
    " "
   ]
  },
  {
   "cell_type": "code",
   "execution_count": null,
   "id": "a0086862-f816-4b73-b33b-3434efccdaeb",
   "metadata": {},
   "outputs": [],
   "source": []
  }
 ],
 "metadata": {
  "kernelspec": {
   "display_name": "signboardDetection",
   "language": "python",
   "name": "python3"
  },
  "language_info": {
   "codemirror_mode": {
    "name": "ipython",
    "version": 3
   },
   "file_extension": ".py",
   "mimetype": "text/x-python",
   "name": "python",
   "nbconvert_exporter": "python",
   "pygments_lexer": "ipython3",
   "version": "3.11.3"
  }
 },
 "nbformat": 4,
 "nbformat_minor": 5
}
